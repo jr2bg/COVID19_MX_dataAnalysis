{
 "cells": [
  {
   "cell_type": "code",
   "execution_count": 1,
   "metadata": {},
   "outputs": [],
   "source": [
    "import wget\n",
    "import os\n",
    "from zipfile import ZipFile\n",
    "import pandas as pd"
   ]
  },
  {
   "cell_type": "code",
   "execution_count": 2,
   "metadata": {},
   "outputs": [
    {
     "name": "stdout",
     "output_type": "stream",
     "text": [
      "File Name                                             Modified             Size\n",
      "200414COVID19MEXICO.csv                        2020-04-14 18:11:30      5015684\n",
      "Extracting all the files now...\n",
      "Done!\n"
     ]
    }
   ],
   "source": [
    "url_data = \"http://187.191.75.115/gobmx/salud/datos_abiertos/datos_abiertos_covid19.zip\"\n",
    "url_dict = \"http://187.191.75.115/gobmx/salud/datos_abiertos/diccionario_datos_covid19.zip\"\n",
    "curr_dir = os.getcwd()\n",
    "file_data = \"datos_abiertos_covid19.zip\"\n",
    "\n",
    "if \"diccionario_datos_covid19.zip\" not in os.listdir():\n",
    "    wget.download(url_dict, os.path.join(curr_dir, \"diccionario_datos_covid19.zip\" ))\n",
    "\n",
    "# elimina archivos previos\n",
    "for file in os.listdir():\n",
    "    if \".csv\" in file or file == file_data:\n",
    "        os.remove(file)\n",
    "# descarga \n",
    "wget.download(url_data, os.path.join(curr_dir,file_data))\n",
    "\n",
    "# descompresión\n",
    "with ZipFile(file_data, 'r') as zip: \n",
    "    # printing all the contents of the zip file \n",
    "    zip.printdir() \n",
    "    print('Extracting all the files now...') \n",
    "    zip.extractall() \n",
    "    print('Done!') "
   ]
  },
  {
   "cell_type": "code",
   "execution_count": 3,
   "metadata": {},
   "outputs": [
    {
     "name": "stdout",
     "output_type": "stream",
     "text": [
      "200414COVID19MEXICO.csv\n"
     ]
    }
   ],
   "source": [
    "# identifica el archivo con datos\n",
    "for file in os.listdir():\n",
    "    if \".csv\" in file:\n",
    "        name_file = file\n",
    "print(name_file)\n",
    "df = pd.read_csv(name_file, encoding = \"latin-1\")"
   ]
  },
  {
   "cell_type": "code",
   "execution_count": 4,
   "metadata": {},
   "outputs": [
    {
     "data": {
      "text/html": [
       "<div>\n",
       "<style scoped>\n",
       "    .dataframe tbody tr th:only-of-type {\n",
       "        vertical-align: middle;\n",
       "    }\n",
       "\n",
       "    .dataframe tbody tr th {\n",
       "        vertical-align: top;\n",
       "    }\n",
       "\n",
       "    .dataframe thead th {\n",
       "        text-align: right;\n",
       "    }\n",
       "</style>\n",
       "<table border=\"1\" class=\"dataframe\">\n",
       "  <thead>\n",
       "    <tr style=\"text-align: right;\">\n",
       "      <th></th>\n",
       "      <th>FECHA_ACTUALIZACION</th>\n",
       "      <th>ORIGEN</th>\n",
       "      <th>SECTOR</th>\n",
       "      <th>ENTIDAD_UM</th>\n",
       "      <th>SEXO</th>\n",
       "      <th>ENTIDAD_NAC</th>\n",
       "      <th>ENTIDAD_RES</th>\n",
       "      <th>MUNICIPIO_RES</th>\n",
       "      <th>TIPO_PACIENTE</th>\n",
       "      <th>FECHA_INGRESO</th>\n",
       "      <th>...</th>\n",
       "      <th>CARDIOVASCULAR</th>\n",
       "      <th>OBESIDAD</th>\n",
       "      <th>RENAL_CRONICA</th>\n",
       "      <th>TABAQUISMO</th>\n",
       "      <th>OTRO_CASO</th>\n",
       "      <th>RESULTADO</th>\n",
       "      <th>MIGRANTE</th>\n",
       "      <th>PAIS_NACIONALIDAD</th>\n",
       "      <th>PAIS_ORIGEN</th>\n",
       "      <th>UCI</th>\n",
       "    </tr>\n",
       "  </thead>\n",
       "  <tbody>\n",
       "    <tr>\n",
       "      <th>0</th>\n",
       "      <td>2020-04-14</td>\n",
       "      <td>2</td>\n",
       "      <td>9</td>\n",
       "      <td>15</td>\n",
       "      <td>1</td>\n",
       "      <td>15</td>\n",
       "      <td>15</td>\n",
       "      <td>37</td>\n",
       "      <td>2</td>\n",
       "      <td>2020-04-09</td>\n",
       "      <td>...</td>\n",
       "      <td>2</td>\n",
       "      <td>2</td>\n",
       "      <td>2</td>\n",
       "      <td>2</td>\n",
       "      <td>2</td>\n",
       "      <td>1</td>\n",
       "      <td>99</td>\n",
       "      <td>99</td>\n",
       "      <td>97</td>\n",
       "      <td>1</td>\n",
       "    </tr>\n",
       "    <tr>\n",
       "      <th>1</th>\n",
       "      <td>2020-04-14</td>\n",
       "      <td>2</td>\n",
       "      <td>9</td>\n",
       "      <td>28</td>\n",
       "      <td>2</td>\n",
       "      <td>16</td>\n",
       "      <td>28</td>\n",
       "      <td>32</td>\n",
       "      <td>1</td>\n",
       "      <td>2020-04-06</td>\n",
       "      <td>...</td>\n",
       "      <td>2</td>\n",
       "      <td>2</td>\n",
       "      <td>2</td>\n",
       "      <td>2</td>\n",
       "      <td>1</td>\n",
       "      <td>1</td>\n",
       "      <td>99</td>\n",
       "      <td>99</td>\n",
       "      <td>97</td>\n",
       "      <td>97</td>\n",
       "    </tr>\n",
       "    <tr>\n",
       "      <th>2</th>\n",
       "      <td>2020-04-14</td>\n",
       "      <td>1</td>\n",
       "      <td>12</td>\n",
       "      <td>15</td>\n",
       "      <td>2</td>\n",
       "      <td>15</td>\n",
       "      <td>15</td>\n",
       "      <td>31</td>\n",
       "      <td>2</td>\n",
       "      <td>2020-04-06</td>\n",
       "      <td>...</td>\n",
       "      <td>2</td>\n",
       "      <td>2</td>\n",
       "      <td>2</td>\n",
       "      <td>2</td>\n",
       "      <td>2</td>\n",
       "      <td>2</td>\n",
       "      <td>99</td>\n",
       "      <td>99</td>\n",
       "      <td>97</td>\n",
       "      <td>2</td>\n",
       "    </tr>\n",
       "    <tr>\n",
       "      <th>3</th>\n",
       "      <td>2020-04-14</td>\n",
       "      <td>1</td>\n",
       "      <td>4</td>\n",
       "      <td>2</td>\n",
       "      <td>2</td>\n",
       "      <td>21</td>\n",
       "      <td>2</td>\n",
       "      <td>4</td>\n",
       "      <td>2</td>\n",
       "      <td>2020-04-02</td>\n",
       "      <td>...</td>\n",
       "      <td>2</td>\n",
       "      <td>1</td>\n",
       "      <td>2</td>\n",
       "      <td>2</td>\n",
       "      <td>99</td>\n",
       "      <td>2</td>\n",
       "      <td>99</td>\n",
       "      <td>MÃ©xico</td>\n",
       "      <td>97</td>\n",
       "      <td>2</td>\n",
       "    </tr>\n",
       "    <tr>\n",
       "      <th>4</th>\n",
       "      <td>2020-04-14</td>\n",
       "      <td>1</td>\n",
       "      <td>12</td>\n",
       "      <td>9</td>\n",
       "      <td>2</td>\n",
       "      <td>99</td>\n",
       "      <td>9</td>\n",
       "      <td>12</td>\n",
       "      <td>2</td>\n",
       "      <td>2020-03-28</td>\n",
       "      <td>...</td>\n",
       "      <td>2</td>\n",
       "      <td>2</td>\n",
       "      <td>2</td>\n",
       "      <td>2</td>\n",
       "      <td>2</td>\n",
       "      <td>1</td>\n",
       "      <td>99</td>\n",
       "      <td>MÃ©xico</td>\n",
       "      <td>97</td>\n",
       "      <td>2</td>\n",
       "    </tr>\n",
       "  </tbody>\n",
       "</table>\n",
       "<p>5 rows × 34 columns</p>\n",
       "</div>"
      ],
      "text/plain": [
       "  FECHA_ACTUALIZACION  ORIGEN  SECTOR  ENTIDAD_UM  SEXO  ENTIDAD_NAC  \\\n",
       "0          2020-04-14       2       9          15     1           15   \n",
       "1          2020-04-14       2       9          28     2           16   \n",
       "2          2020-04-14       1      12          15     2           15   \n",
       "3          2020-04-14       1       4           2     2           21   \n",
       "4          2020-04-14       1      12           9     2           99   \n",
       "\n",
       "   ENTIDAD_RES  MUNICIPIO_RES  TIPO_PACIENTE FECHA_INGRESO  ...  \\\n",
       "0           15             37              2    2020-04-09  ...   \n",
       "1           28             32              1    2020-04-06  ...   \n",
       "2           15             31              2    2020-04-06  ...   \n",
       "3            2              4              2    2020-04-02  ...   \n",
       "4            9             12              2    2020-03-28  ...   \n",
       "\n",
       "  CARDIOVASCULAR OBESIDAD  RENAL_CRONICA  TABAQUISMO  OTRO_CASO  RESULTADO  \\\n",
       "0              2        2              2           2          2          1   \n",
       "1              2        2              2           2          1          1   \n",
       "2              2        2              2           2          2          2   \n",
       "3              2        1              2           2         99          2   \n",
       "4              2        2              2           2          2          1   \n",
       "\n",
       "   MIGRANTE  PAIS_NACIONALIDAD  PAIS_ORIGEN  UCI  \n",
       "0        99                 99           97    1  \n",
       "1        99                 99           97   97  \n",
       "2        99                 99           97    2  \n",
       "3        99            MÃ©xico           97    2  \n",
       "4        99            MÃ©xico           97    2  \n",
       "\n",
       "[5 rows x 34 columns]"
      ]
     },
     "execution_count": 4,
     "metadata": {},
     "output_type": "execute_result"
    }
   ],
   "source": [
    "df.head()"
   ]
  },
  {
   "cell_type": "code",
   "execution_count": 5,
   "metadata": {},
   "outputs": [
    {
     "name": "stdout",
     "output_type": "stream",
     "text": [
      "<class 'pandas.core.frame.DataFrame'>\n",
      "RangeIndex: 41593 entries, 0 to 41592\n",
      "Data columns (total 34 columns):\n",
      "FECHA_ACTUALIZACION    41593 non-null object\n",
      "ORIGEN                 41593 non-null int64\n",
      "SECTOR                 41593 non-null int64\n",
      "ENTIDAD_UM             41593 non-null int64\n",
      "SEXO                   41593 non-null int64\n",
      "ENTIDAD_NAC            41593 non-null int64\n",
      "ENTIDAD_RES            41593 non-null int64\n",
      "MUNICIPIO_RES          41593 non-null int64\n",
      "TIPO_PACIENTE          41593 non-null int64\n",
      "FECHA_INGRESO          41593 non-null object\n",
      "FECHA_SINTOMAS         41593 non-null object\n",
      "FECHA_DEF              41593 non-null object\n",
      "INTUBADO               41593 non-null int64\n",
      "NEUMONIA               41593 non-null int64\n",
      "EDAD                   41593 non-null int64\n",
      "NACIONALIDAD           41593 non-null int64\n",
      "EMBARAZO               41593 non-null int64\n",
      "HABLA_LENGUA_INDI      41593 non-null int64\n",
      "DIABETES               41593 non-null int64\n",
      "EPOC                   41593 non-null int64\n",
      "ASMA                   41593 non-null int64\n",
      "INMUSUPR               41593 non-null int64\n",
      "HIPERTENSION           41593 non-null int64\n",
      "OTRA_CON               41593 non-null int64\n",
      "CARDIOVASCULAR         41593 non-null int64\n",
      "OBESIDAD               41593 non-null int64\n",
      "RENAL_CRONICA          41593 non-null int64\n",
      "TABAQUISMO             41593 non-null int64\n",
      "OTRO_CASO              41593 non-null int64\n",
      "RESULTADO              41593 non-null int64\n",
      "MIGRANTE               41593 non-null int64\n",
      "PAIS_NACIONALIDAD      41593 non-null object\n",
      "PAIS_ORIGEN            41593 non-null object\n",
      "UCI                    41593 non-null int64\n",
      "dtypes: int64(28), object(6)\n",
      "memory usage: 10.8+ MB\n"
     ]
    }
   ],
   "source": [
    "df.info()"
   ]
  },
  {
   "cell_type": "code",
   "execution_count": 6,
   "metadata": {},
   "outputs": [
    {
     "data": {
      "text/plain": [
       "Index(['FECHA_ACTUALIZACION', 'ORIGEN', 'SECTOR', 'ENTIDAD_UM', 'SEXO',\n",
       "       'ENTIDAD_NAC', 'ENTIDAD_RES', 'MUNICIPIO_RES', 'TIPO_PACIENTE',\n",
       "       'FECHA_INGRESO', 'FECHA_SINTOMAS', 'FECHA_DEF', 'INTUBADO', 'NEUMONIA',\n",
       "       'EDAD', 'NACIONALIDAD', 'EMBARAZO', 'HABLA_LENGUA_INDI', 'DIABETES',\n",
       "       'EPOC', 'ASMA', 'INMUSUPR', 'HIPERTENSION', 'OTRA_CON',\n",
       "       'CARDIOVASCULAR', 'OBESIDAD', 'RENAL_CRONICA', 'TABAQUISMO',\n",
       "       'OTRO_CASO', 'RESULTADO', 'MIGRANTE', 'PAIS_NACIONALIDAD',\n",
       "       'PAIS_ORIGEN', 'UCI'],\n",
       "      dtype='object')"
      ]
     },
     "execution_count": 6,
     "metadata": {},
     "output_type": "execute_result"
    }
   ],
   "source": [
    "df.columns"
   ]
  },
  {
   "cell_type": "code",
   "execution_count": 7,
   "metadata": {},
   "outputs": [
    {
     "data": {
      "text/plain": [
       "array(['9999-99-99', '2020-04-13', '2020-03-26', '2020-04-09',\n",
       "       '2020-03-28', '2020-04-11', '2020-04-10', '2020-04-02',\n",
       "       '2020-03-30', '2020-04-08', '2020-04-05', '2020-03-18',\n",
       "       '2020-04-01', '2020-04-03', '2020-02-10', '2020-04-12',\n",
       "       '2020-04-07', '2020-04-04', '2020-03-31', '2020-04-06',\n",
       "       '2020-03-25', '2020-04-14', '2020-03-29', '2020-03-24',\n",
       "       '2020-03-27', '2020-03-20', '2020-03-22', '2020-03-17',\n",
       "       '2020-03-09', '2020-01-13', '2020-03-23'], dtype=object)"
      ]
     },
     "execution_count": 7,
     "metadata": {},
     "output_type": "execute_result"
    }
   ],
   "source": [
    "df[\"FECHA_DEF\"].unique()"
   ]
  },
  {
   "cell_type": "code",
   "execution_count": 8,
   "metadata": {},
   "outputs": [
    {
     "data": {
      "text/plain": [
       "(855, 34)"
      ]
     },
     "execution_count": 8,
     "metadata": {},
     "output_type": "execute_result"
    }
   ],
   "source": [
    "df_fallecidos = df[df[\"FECHA_DEF\"] != \"9999-99-99\"]\n",
    "df_fallecidos.shape"
   ]
  },
  {
   "cell_type": "code",
   "execution_count": 9,
   "metadata": {},
   "outputs": [
    {
     "data": {
      "text/plain": [
       "array(['2020-03-28', '2020-04-04', '2020-03-26', '2020-03-17',\n",
       "       '2020-04-05', '2020-03-01', '2020-03-31', '2020-03-25',\n",
       "       '2020-04-06', '2020-03-19', '2020-03-04', '2020-03-18',\n",
       "       '2020-03-15', '2020-03-20', '2020-04-01', '2020-03-30',\n",
       "       '2020-03-14', '2020-03-13', '2020-04-13', '2020-04-09',\n",
       "       '2020-04-03', '2020-03-23', '2020-03-21', '2020-03-29',\n",
       "       '2020-03-24', '2020-04-08', '2020-04-12', '2020-03-10',\n",
       "       '2020-04-07', '2020-03-03', '2020-03-22', '2020-03-09',\n",
       "       '2020-03-27', '2020-03-11', '2020-03-16', '2020-04-11',\n",
       "       '2020-04-10', '2020-04-02', '2020-03-12', '2020-03-07',\n",
       "       '2020-02-29', '2020-04-14', '2020-02-25', '2020-03-02',\n",
       "       '2020-02-20', '2020-02-26', '2020-01-30', '2020-02-23',\n",
       "       '2020-03-08', '2020-03-05', '2020-03-06', '2020-01-06',\n",
       "       '2020-02-27', '2020-02-05', '2020-02-08', '2020-01-29',\n",
       "       '2020-02-04', '2020-02-10', '2020-02-11', '2020-02-12',\n",
       "       '2020-01-13', '2020-02-28', '2020-01-08', '2020-01-20',\n",
       "       '2020-02-15', '2020-01-31', '2020-02-19', '2020-02-09',\n",
       "       '2020-02-22', '2020-01-15', '2020-01-23', '2020-02-21',\n",
       "       '2020-01-26', '2020-02-24', '2020-01-19', '2020-02-16',\n",
       "       '2020-02-06', '2020-02-13', '2020-01-22', '2020-02-14',\n",
       "       '2020-02-18', '2020-02-07', '2020-01-02', '2020-02-17',\n",
       "       '2020-01-14', '2020-01-16', '2020-02-02', '2020-01-03',\n",
       "       '2020-01-09', '2020-02-03', '2020-01-27', '2020-01-21',\n",
       "       '2020-01-10', '2020-01-24', '2020-01-11', '2020-01-25',\n",
       "       '2020-01-01', '2020-01-28', '2020-02-01', '2020-01-07',\n",
       "       '2020-01-04', '2020-01-12'], dtype=object)"
      ]
     },
     "execution_count": 9,
     "metadata": {},
     "output_type": "execute_result"
    }
   ],
   "source": [
    "df[\"FECHA_SINTOMAS\"].unique()"
   ]
  },
  {
   "cell_type": "code",
   "execution_count": 11,
   "metadata": {},
   "outputs": [],
   "source": [
    "df[\"FECHA_SINTOMAS\"] =pd.to_datetime(df[\"FECHA_SINTOMAS\"], format = \"%Y-%m-%d\")\n",
    "df[\"FECHA_INGRESO\"] =pd.to_datetime(df[\"FECHA_INGRESO\"], format = \"%Y-%m-%d\")\n",
    "df[\"FECHA_ACTUALIZACION\"] =pd.to_datetime(df[\"FECHA_ACTUALIZACION\"], format = \"%Y-%m-%d\")"
   ]
  },
  {
   "cell_type": "code",
   "execution_count": 14,
   "metadata": {},
   "outputs": [
    {
     "name": "stdout",
     "output_type": "stream",
     "text": [
      "<class 'pandas.core.frame.DataFrame'>\n",
      "RangeIndex: 41593 entries, 0 to 41592\n",
      "Data columns (total 34 columns):\n",
      "FECHA_ACTUALIZACION    41593 non-null datetime64[ns]\n",
      "ORIGEN                 41593 non-null int64\n",
      "SECTOR                 41593 non-null int64\n",
      "ENTIDAD_UM             41593 non-null int64\n",
      "SEXO                   41593 non-null int64\n",
      "ENTIDAD_NAC            41593 non-null int64\n",
      "ENTIDAD_RES            41593 non-null int64\n",
      "MUNICIPIO_RES          41593 non-null int64\n",
      "TIPO_PACIENTE          41593 non-null int64\n",
      "FECHA_INGRESO          41593 non-null datetime64[ns]\n",
      "FECHA_SINTOMAS         41593 non-null datetime64[ns]\n",
      "FECHA_DEF              41593 non-null object\n",
      "INTUBADO               41593 non-null int64\n",
      "NEUMONIA               41593 non-null int64\n",
      "EDAD                   41593 non-null int64\n",
      "NACIONALIDAD           41593 non-null int64\n",
      "EMBARAZO               41593 non-null int64\n",
      "HABLA_LENGUA_INDI      41593 non-null int64\n",
      "DIABETES               41593 non-null int64\n",
      "EPOC                   41593 non-null int64\n",
      "ASMA                   41593 non-null int64\n",
      "INMUSUPR               41593 non-null int64\n",
      "HIPERTENSION           41593 non-null int64\n",
      "OTRA_CON               41593 non-null int64\n",
      "CARDIOVASCULAR         41593 non-null int64\n",
      "OBESIDAD               41593 non-null int64\n",
      "RENAL_CRONICA          41593 non-null int64\n",
      "TABAQUISMO             41593 non-null int64\n",
      "OTRO_CASO              41593 non-null int64\n",
      "RESULTADO              41593 non-null int64\n",
      "MIGRANTE               41593 non-null int64\n",
      "PAIS_NACIONALIDAD      41593 non-null object\n",
      "PAIS_ORIGEN            41593 non-null object\n",
      "UCI                    41593 non-null int64\n",
      "dtypes: datetime64[ns](3), int64(28), object(3)\n",
      "memory usage: 10.8+ MB\n"
     ]
    }
   ],
   "source": [
    "df.info()"
   ]
  },
  {
   "cell_type": "code",
   "execution_count": 15,
   "metadata": {},
   "outputs": [
    {
     "data": {
      "text/plain": [
       "count                   41593\n",
       "unique                    102\n",
       "top       2020-04-01 00:00:00\n",
       "freq                     2012\n",
       "first     2020-01-01 00:00:00\n",
       "last      2020-04-14 00:00:00\n",
       "Name: FECHA_SINTOMAS, dtype: object"
      ]
     },
     "execution_count": 15,
     "metadata": {},
     "output_type": "execute_result"
    }
   ],
   "source": [
    "df[\"FECHA_SINTOMAS\"].describe()"
   ]
  },
  {
   "cell_type": "code",
   "execution_count": 25,
   "metadata": {},
   "outputs": [
    {
     "data": {
      "text/plain": [
       "<matplotlib.axes._subplots.AxesSubplot at 0x7fc02c0590b8>"
      ]
     },
     "execution_count": 25,
     "metadata": {},
     "output_type": "execute_result"
    },
    {
     "data": {
      "image/png": "[encoded data removed]",
      "text/plain": [
       "<Figure size 432x288 with 1 Axes>"
      ]
     },
     "metadata": {
      "needs_background": "light"
     },
     "output_type": "display_data"
    }
   ],
   "source": [
    "%matplotlib inline\n",
    "df[\"FECHA_SINTOMAS\"].value_counts().plot()"
   ]
  },
  {
   "cell_type": "code",
   "execution_count": 26,
   "metadata": {},
   "outputs": [
    {
     "data": {
      "text/plain": [
       "2020-04-01    2012\n",
       "2020-03-30    1841\n",
       "2020-04-06    1770\n",
       "2020-04-03    1704\n",
       "2020-03-27    1627\n",
       "2020-03-23    1596\n",
       "2020-04-07    1592\n",
       "2020-03-31    1592\n",
       "2020-03-28    1557\n",
       "2020-04-02    1524\n",
       "2020-03-29    1506\n",
       "2020-04-04    1492\n",
       "2020-03-26    1476\n",
       "2020-03-25    1462\n",
       "2020-04-05    1460\n",
       "2020-03-24    1408\n",
       "2020-04-08    1390\n",
       "2020-04-09    1212\n",
       "2020-04-10    1149\n",
       "2020-03-20    1146\n",
       "2020-03-22    1073\n",
       "2020-03-21     921\n",
       "2020-04-11     804\n",
       "2020-03-18     787\n",
       "2020-03-19     754\n",
       "2020-03-17     728\n",
       "2020-03-16     713\n",
       "2020-04-12     588\n",
       "2020-03-15     554\n",
       "2020-03-14     458\n",
       "              ... \n",
       "2020-01-24       5\n",
       "2020-02-11       5\n",
       "2020-01-19       5\n",
       "2020-01-28       5\n",
       "2020-02-06       5\n",
       "2020-01-13       5\n",
       "2020-01-15       4\n",
       "2020-01-27       4\n",
       "2020-01-22       4\n",
       "2020-01-30       4\n",
       "2020-01-14       3\n",
       "2020-01-26       3\n",
       "2020-01-31       3\n",
       "2020-01-08       3\n",
       "2020-01-20       3\n",
       "2020-02-02       3\n",
       "2020-01-25       2\n",
       "2020-01-03       2\n",
       "2020-01-16       2\n",
       "2020-01-29       2\n",
       "2020-01-21       2\n",
       "2020-01-06       2\n",
       "2020-01-01       1\n",
       "2020-01-07       1\n",
       "2020-01-10       1\n",
       "2020-01-09       1\n",
       "2020-01-04       1\n",
       "2020-01-02       1\n",
       "2020-01-11       1\n",
       "2020-01-12       1\n",
       "Name: FECHA_SINTOMAS, Length: 102, dtype: int64"
      ]
     },
     "execution_count": 26,
     "metadata": {},
     "output_type": "execute_result"
    }
   ],
   "source": [
    "df[\"FECHA_SINTOMAS\"].value_counts()"
   ]
  },
  {
   "cell_type": "code",
   "execution_count": null,
   "metadata": {},
   "outputs": [],
   "source": []
  }
 ],
 "metadata": {
  "kernelspec": {
   "display_name": "Python 3",
   "language": "python",
   "name": "python3"
  },
  "language_info": {
   "codemirror_mode": {
    "name": "ipython",
    "version": 3
   },
   "file_extension": ".py",
   "mimetype": "text/x-python",
   "name": "python",
   "nbconvert_exporter": "python",
   "pygments_lexer": "ipython3",
   "version": "3.6.7"
  }
 },
 "nbformat": 4,
 "nbformat_minor": 2
}
