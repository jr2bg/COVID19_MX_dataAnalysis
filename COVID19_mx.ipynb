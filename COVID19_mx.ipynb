{
 "cells": [
  {
   "cell_type": "code",
   "execution_count": 17,
   "metadata": {},
   "outputs": [],
   "source": [
    "import wget\n",
    "import os\n",
    "from zipfile import ZipFile\n",
    "import pandas as pd\n",
    "import geopandas as gpd\n",
    "\n",
    "%matplotlib inline"
   ]
  },
  {
   "cell_type": "code",
   "execution_count": 2,
   "metadata": {},
   "outputs": [
    {
     "name": "stdout",
     "output_type": "stream",
     "text": [
      "File Name                                             Modified             Size\n",
      "200415COVID19MEXICO.csv                        2020-04-15 16:01:08      6242577\n",
      "Extracting all the files now...\n",
      "Done!\n"
     ]
    }
   ],
   "source": [
    "url_data = \"http://187.191.75.115/gobmx/salud/datos_abiertos/datos_abiertos_covid19.zip\"\n",
    "url_dict = \"http://187.191.75.115/gobmx/salud/datos_abiertos/diccionario_datos_covid19.zip\"\n",
    "curr_dir = os.getcwd()\n",
    "file_data = \"datos_abiertos_covid19.zip\"\n",
    "\n",
    "if \"diccionario_datos_covid19.zip\" not in os.listdir():\n",
    "    wget.download(url_dict, os.path.join(curr_dir, \"diccionario_datos_covid19.zip\" ))\n",
    "\n",
    "# elimina archivos previos\n",
    "for file in os.listdir():\n",
    "    if \".csv\" in file or file == file_data:\n",
    "        os.remove(file)\n",
    "# descarga \n",
    "wget.download(url_data, os.path.join(curr_dir,file_data))\n",
    "\n",
    "# descompresión\n",
    "with ZipFile(file_data, 'r') as zip: \n",
    "    # printing all the contents of the zip file \n",
    "    zip.printdir() \n",
    "    print('Extracting all the files now...') \n",
    "    zip.extractall() \n",
    "    print('Done!') "
   ]
  },
  {
   "cell_type": "code",
   "execution_count": 3,
   "metadata": {},
   "outputs": [
    {
     "name": "stdout",
     "output_type": "stream",
     "text": [
      "200415COVID19MEXICO.csv\n"
     ]
    }
   ],
   "source": [
    "# identifica el archivo con datos\n",
    "for file in os.listdir():\n",
    "    if \".csv\" in file:\n",
    "        name_file = file\n",
    "print(name_file)\n",
    "df = pd.read_csv(name_file, encoding = \"latin-1\")"
   ]
  },
  {
   "cell_type": "code",
   "execution_count": 4,
   "metadata": {},
   "outputs": [
    {
     "data": {
      "text/html": [
       "<div>\n",
       "<style scoped>\n",
       "    .dataframe tbody tr th:only-of-type {\n",
       "        vertical-align: middle;\n",
       "    }\n",
       "\n",
       "    .dataframe tbody tr th {\n",
       "        vertical-align: top;\n",
       "    }\n",
       "\n",
       "    .dataframe thead th {\n",
       "        text-align: right;\n",
       "    }\n",
       "</style>\n",
       "<table border=\"1\" class=\"dataframe\">\n",
       "  <thead>\n",
       "    <tr style=\"text-align: right;\">\n",
       "      <th></th>\n",
       "      <th>FECHA_ACTUALIZACION</th>\n",
       "      <th>ORIGEN</th>\n",
       "      <th>SECTOR</th>\n",
       "      <th>ENTIDAD_UM</th>\n",
       "      <th>SEXO</th>\n",
       "      <th>ENTIDAD_NAC</th>\n",
       "      <th>ENTIDAD_RES</th>\n",
       "      <th>MUNICIPIO_RES</th>\n",
       "      <th>TIPO_PACIENTE</th>\n",
       "      <th>FECHA_INGRESO</th>\n",
       "      <th>...</th>\n",
       "      <th>CARDIOVASCULAR</th>\n",
       "      <th>OBESIDAD</th>\n",
       "      <th>RENAL_CRONICA</th>\n",
       "      <th>TABAQUISMO</th>\n",
       "      <th>OTRO_CASO</th>\n",
       "      <th>RESULTADO</th>\n",
       "      <th>MIGRANTE</th>\n",
       "      <th>PAIS_NACIONALIDAD</th>\n",
       "      <th>PAIS_ORIGEN</th>\n",
       "      <th>UCI</th>\n",
       "    </tr>\n",
       "  </thead>\n",
       "  <tbody>\n",
       "    <tr>\n",
       "      <th>0</th>\n",
       "      <td>2020-04-15</td>\n",
       "      <td>2</td>\n",
       "      <td>9</td>\n",
       "      <td>15</td>\n",
       "      <td>1</td>\n",
       "      <td>15</td>\n",
       "      <td>15</td>\n",
       "      <td>37</td>\n",
       "      <td>2</td>\n",
       "      <td>2020-04-09</td>\n",
       "      <td>...</td>\n",
       "      <td>2</td>\n",
       "      <td>2</td>\n",
       "      <td>2</td>\n",
       "      <td>2</td>\n",
       "      <td>2</td>\n",
       "      <td>1</td>\n",
       "      <td>99</td>\n",
       "      <td>99</td>\n",
       "      <td>97</td>\n",
       "      <td>1</td>\n",
       "    </tr>\n",
       "    <tr>\n",
       "      <th>1</th>\n",
       "      <td>2020-04-15</td>\n",
       "      <td>2</td>\n",
       "      <td>9</td>\n",
       "      <td>28</td>\n",
       "      <td>2</td>\n",
       "      <td>16</td>\n",
       "      <td>28</td>\n",
       "      <td>32</td>\n",
       "      <td>1</td>\n",
       "      <td>2020-04-06</td>\n",
       "      <td>...</td>\n",
       "      <td>2</td>\n",
       "      <td>2</td>\n",
       "      <td>2</td>\n",
       "      <td>2</td>\n",
       "      <td>1</td>\n",
       "      <td>1</td>\n",
       "      <td>99</td>\n",
       "      <td>99</td>\n",
       "      <td>97</td>\n",
       "      <td>97</td>\n",
       "    </tr>\n",
       "    <tr>\n",
       "      <th>2</th>\n",
       "      <td>2020-04-15</td>\n",
       "      <td>1</td>\n",
       "      <td>12</td>\n",
       "      <td>15</td>\n",
       "      <td>2</td>\n",
       "      <td>15</td>\n",
       "      <td>15</td>\n",
       "      <td>31</td>\n",
       "      <td>2</td>\n",
       "      <td>2020-04-06</td>\n",
       "      <td>...</td>\n",
       "      <td>2</td>\n",
       "      <td>2</td>\n",
       "      <td>2</td>\n",
       "      <td>2</td>\n",
       "      <td>2</td>\n",
       "      <td>2</td>\n",
       "      <td>99</td>\n",
       "      <td>99</td>\n",
       "      <td>97</td>\n",
       "      <td>2</td>\n",
       "    </tr>\n",
       "    <tr>\n",
       "      <th>3</th>\n",
       "      <td>2020-04-15</td>\n",
       "      <td>2</td>\n",
       "      <td>12</td>\n",
       "      <td>9</td>\n",
       "      <td>2</td>\n",
       "      <td>99</td>\n",
       "      <td>9</td>\n",
       "      <td>8</td>\n",
       "      <td>1</td>\n",
       "      <td>2020-04-15</td>\n",
       "      <td>...</td>\n",
       "      <td>2</td>\n",
       "      <td>2</td>\n",
       "      <td>2</td>\n",
       "      <td>2</td>\n",
       "      <td>1</td>\n",
       "      <td>3</td>\n",
       "      <td>99</td>\n",
       "      <td>99</td>\n",
       "      <td>97</td>\n",
       "      <td>97</td>\n",
       "    </tr>\n",
       "    <tr>\n",
       "      <th>4</th>\n",
       "      <td>2020-04-15</td>\n",
       "      <td>1</td>\n",
       "      <td>4</td>\n",
       "      <td>2</td>\n",
       "      <td>2</td>\n",
       "      <td>21</td>\n",
       "      <td>2</td>\n",
       "      <td>4</td>\n",
       "      <td>2</td>\n",
       "      <td>2020-04-02</td>\n",
       "      <td>...</td>\n",
       "      <td>2</td>\n",
       "      <td>1</td>\n",
       "      <td>2</td>\n",
       "      <td>2</td>\n",
       "      <td>99</td>\n",
       "      <td>2</td>\n",
       "      <td>99</td>\n",
       "      <td>MÃ©xico</td>\n",
       "      <td>97</td>\n",
       "      <td>2</td>\n",
       "    </tr>\n",
       "  </tbody>\n",
       "</table>\n",
       "<p>5 rows × 34 columns</p>\n",
       "</div>"
      ],
      "text/plain": [
       "  FECHA_ACTUALIZACION  ORIGEN  SECTOR  ENTIDAD_UM  SEXO  ENTIDAD_NAC  \\\n",
       "0          2020-04-15       2       9          15     1           15   \n",
       "1          2020-04-15       2       9          28     2           16   \n",
       "2          2020-04-15       1      12          15     2           15   \n",
       "3          2020-04-15       2      12           9     2           99   \n",
       "4          2020-04-15       1       4           2     2           21   \n",
       "\n",
       "   ENTIDAD_RES  MUNICIPIO_RES  TIPO_PACIENTE FECHA_INGRESO  ...  \\\n",
       "0           15             37              2    2020-04-09  ...   \n",
       "1           28             32              1    2020-04-06  ...   \n",
       "2           15             31              2    2020-04-06  ...   \n",
       "3            9              8              1    2020-04-15  ...   \n",
       "4            2              4              2    2020-04-02  ...   \n",
       "\n",
       "  CARDIOVASCULAR OBESIDAD  RENAL_CRONICA  TABAQUISMO  OTRO_CASO  RESULTADO  \\\n",
       "0              2        2              2           2          2          1   \n",
       "1              2        2              2           2          1          1   \n",
       "2              2        2              2           2          2          2   \n",
       "3              2        2              2           2          1          3   \n",
       "4              2        1              2           2         99          2   \n",
       "\n",
       "   MIGRANTE  PAIS_NACIONALIDAD  PAIS_ORIGEN  UCI  \n",
       "0        99                 99           97    1  \n",
       "1        99                 99           97   97  \n",
       "2        99                 99           97    2  \n",
       "3        99                 99           97   97  \n",
       "4        99            MÃ©xico           97    2  \n",
       "\n",
       "[5 rows x 34 columns]"
      ]
     },
     "execution_count": 4,
     "metadata": {},
     "output_type": "execute_result"
    }
   ],
   "source": [
    "df.head()"
   ]
  },
  {
   "cell_type": "code",
   "execution_count": 5,
   "metadata": {},
   "outputs": [
    {
     "name": "stdout",
     "output_type": "stream",
     "text": [
      "<class 'pandas.core.frame.DataFrame'>\n",
      "RangeIndex: 41593 entries, 0 to 41592\n",
      "Data columns (total 34 columns):\n",
      "FECHA_ACTUALIZACION    41593 non-null object\n",
      "ORIGEN                 41593 non-null int64\n",
      "SECTOR                 41593 non-null int64\n",
      "ENTIDAD_UM             41593 non-null int64\n",
      "SEXO                   41593 non-null int64\n",
      "ENTIDAD_NAC            41593 non-null int64\n",
      "ENTIDAD_RES            41593 non-null int64\n",
      "MUNICIPIO_RES          41593 non-null int64\n",
      "TIPO_PACIENTE          41593 non-null int64\n",
      "FECHA_INGRESO          41593 non-null object\n",
      "FECHA_SINTOMAS         41593 non-null object\n",
      "FECHA_DEF              41593 non-null object\n",
      "INTUBADO               41593 non-null int64\n",
      "NEUMONIA               41593 non-null int64\n",
      "EDAD                   41593 non-null int64\n",
      "NACIONALIDAD           41593 non-null int64\n",
      "EMBARAZO               41593 non-null int64\n",
      "HABLA_LENGUA_INDI      41593 non-null int64\n",
      "DIABETES               41593 non-null int64\n",
      "EPOC                   41593 non-null int64\n",
      "ASMA                   41593 non-null int64\n",
      "INMUSUPR               41593 non-null int64\n",
      "HIPERTENSION           41593 non-null int64\n",
      "OTRA_CON               41593 non-null int64\n",
      "CARDIOVASCULAR         41593 non-null int64\n",
      "OBESIDAD               41593 non-null int64\n",
      "RENAL_CRONICA          41593 non-null int64\n",
      "TABAQUISMO             41593 non-null int64\n",
      "OTRO_CASO              41593 non-null int64\n",
      "RESULTADO              41593 non-null int64\n",
      "MIGRANTE               41593 non-null int64\n",
      "PAIS_NACIONALIDAD      41593 non-null object\n",
      "PAIS_ORIGEN            41593 non-null object\n",
      "UCI                    41593 non-null int64\n",
      "dtypes: int64(28), object(6)\n",
      "memory usage: 10.8+ MB\n"
     ]
    }
   ],
   "source": [
    "df.info()"
   ]
  },
  {
   "cell_type": "code",
   "execution_count": 5,
   "metadata": {},
   "outputs": [],
   "source": [
    "df[\"FECHA_SINTOMAS\"] =pd.to_datetime(df[\"FECHA_SINTOMAS\"], format = \"%Y-%m-%d\")\n",
    "df[\"FECHA_INGRESO\"] =pd.to_datetime(df[\"FECHA_INGRESO\"], format = \"%Y-%m-%d\")\n",
    "df[\"FECHA_ACTUALIZACION\"] =pd.to_datetime(df[\"FECHA_ACTUALIZACION\"], format = \"%Y-%m-%d\")"
   ]
  },
  {
   "cell_type": "code",
   "execution_count": 6,
   "metadata": {},
   "outputs": [
    {
     "data": {
      "text/plain": [
       "Index(['FECHA_ACTUALIZACION', 'ORIGEN', 'SECTOR', 'ENTIDAD_UM', 'SEXO',\n",
       "       'ENTIDAD_NAC', 'ENTIDAD_RES', 'MUNICIPIO_RES', 'TIPO_PACIENTE',\n",
       "       'FECHA_INGRESO', 'FECHA_SINTOMAS', 'FECHA_DEF', 'INTUBADO', 'NEUMONIA',\n",
       "       'EDAD', 'NACIONALIDAD', 'EMBARAZO', 'HABLA_LENGUA_INDI', 'DIABETES',\n",
       "       'EPOC', 'ASMA', 'INMUSUPR', 'HIPERTENSION', 'OTRA_CON',\n",
       "       'CARDIOVASCULAR', 'OBESIDAD', 'RENAL_CRONICA', 'TABAQUISMO',\n",
       "       'OTRO_CASO', 'RESULTADO', 'MIGRANTE', 'PAIS_NACIONALIDAD',\n",
       "       'PAIS_ORIGEN', 'UCI'],\n",
       "      dtype='object')"
      ]
     },
     "execution_count": 6,
     "metadata": {},
     "output_type": "execute_result"
    }
   ],
   "source": [
    "df.columns"
   ]
  },
  {
   "cell_type": "code",
   "execution_count": 7,
   "metadata": {},
   "outputs": [
    {
     "data": {
      "text/plain": [
       "array(['9999-99-99', '2020-04-13', '2020-03-26', '2020-04-09',\n",
       "       '2020-03-28', '2020-04-11', '2020-04-10', '2020-04-02',\n",
       "       '2020-03-30', '2020-04-08', '2020-04-05', '2020-03-18',\n",
       "       '2020-04-01', '2020-04-03', '2020-02-10', '2020-04-12',\n",
       "       '2020-04-07', '2020-04-04', '2020-03-31', '2020-04-06',\n",
       "       '2020-03-25', '2020-04-14', '2020-03-29', '2020-03-24',\n",
       "       '2020-04-15', '2020-03-27', '2020-03-20', '2020-03-22',\n",
       "       '2020-03-17', '2020-03-09', '2020-01-13', '2020-03-23'],\n",
       "      dtype=object)"
      ]
     },
     "execution_count": 7,
     "metadata": {},
     "output_type": "execute_result"
    }
   ],
   "source": [
    "df[\"FECHA_DEF\"].unique()"
   ]
  },
  {
   "cell_type": "code",
   "execution_count": 13,
   "metadata": {},
   "outputs": [],
   "source": [
    "# necesario copiar el df con la info de los fallecidos para evitar fallas al \n",
    "# cambiar FECHA_DEF a datetime\n",
    "df_fallecidos = df[df[\"FECHA_DEF\"] != \"9999-99-99\"].copy()\n",
    "df_Nfallecidos = df[df[\"FECHA_DEF\"] == \"9999-99-99\"]\n",
    "\n",
    "df_fallecidos[\"FECHA_DEF\"] = pd.to_datetime(df_fallecidos[\"FECHA_DEF\"], format = \"%Y-%m-%d\")"
   ]
  },
  {
   "cell_type": "code",
   "execution_count": 14,
   "metadata": {},
   "outputs": [
    {
     "data": {
      "text/plain": [
       "array(['9999-99-99', '2020-04-13', '2020-03-26', '2020-04-09',\n",
       "       '2020-03-28', '2020-04-11', '2020-04-10', '2020-04-02',\n",
       "       '2020-03-30', '2020-04-08', '2020-04-05', '2020-03-18',\n",
       "       '2020-04-01', '2020-04-03', '2020-02-10', '2020-04-12',\n",
       "       '2020-04-07', '2020-04-04', '2020-03-31', '2020-04-06',\n",
       "       '2020-03-25', '2020-04-14', '2020-03-29', '2020-03-24',\n",
       "       '2020-04-15', '2020-03-27', '2020-03-20', '2020-03-22',\n",
       "       '2020-03-17', '2020-03-09', '2020-01-13', '2020-03-23'],\n",
       "      dtype=object)"
      ]
     },
     "execution_count": 14,
     "metadata": {},
     "output_type": "execute_result"
    }
   ],
   "source": [
    "df[\"FECHA_DEF\"].unique()"
   ]
  },
  {
   "cell_type": "code",
   "execution_count": 16,
   "metadata": {},
   "outputs": [],
   "source": [
    "df_fallecidos[\"DIAS_ENF\"] = df_fallecidos[\"FECHA_DEF\"] - df_fallecidos[\"FECHA_SINTOMAS\"]"
   ]
  },
  {
   "cell_type": "code",
   "execution_count": 18,
   "metadata": {},
   "outputs": [
    {
     "data": {
      "text/plain": [
       "<matplotlib.axes._subplots.AxesSubplot at 0x7f9e689fb2b0>"
      ]
     },
     "execution_count": 18,
     "metadata": {},
     "output_type": "execute_result"
    },
    {
     "data": {
      "image/png": "[encoded data removed]",
      "text/plain": [
       "<Figure size 432x288 with 1 Axes>"
      ]
     },
     "metadata": {
      "needs_background": "light"
     },
     "output_type": "display_data"
    }
   ],
   "source": [
    "df_fallecidos[\"DIAS_ENF\"].value_counts().plot()"
   ]
  },
  {
   "cell_type": "code",
   "execution_count": 19,
   "metadata": {},
   "outputs": [
    {
     "data": {
      "text/plain": [
       "count                       937\n",
       "mean     8 days 04:56:36.371398\n",
       "std      5 days 06:46:51.039472\n",
       "min             0 days 00:00:00\n",
       "25%             4 days 00:00:00\n",
       "50%             7 days 00:00:00\n",
       "75%            11 days 00:00:00\n",
       "max            34 days 00:00:00\n",
       "Name: DIAS_ENF, dtype: object"
      ]
     },
     "execution_count": 19,
     "metadata": {},
     "output_type": "execute_result"
    }
   ],
   "source": [
    "df_fallecidos[\"DIAS_ENF\"].describe()"
   ]
  },
  {
   "cell_type": "markdown",
   "metadata": {},
   "source": [
    "La descripción de la columna anterior muestra que la mitad de los fallecidos mueren a los 7 días de percibir los síntomas.\n",
    "El 75% de los fallecidos mueren después de los 11 días de los primeros síntomas."
   ]
  },
  {
   "cell_type": "code",
   "execution_count": 25,
   "metadata": {},
   "outputs": [
    {
     "data": {
      "text/plain": [
       "<matplotlib.axes._subplots.AxesSubplot at 0x7fc02c0590b8>"
      ]
     },
     "execution_count": 25,
     "metadata": {},
     "output_type": "execute_result"
    },
    {
     "data": {
      "image/png": "[encoded data removed]",
      "text/plain": [
       "<Figure size 432x288 with 1 Axes>"
      ]
     },
     "metadata": {
      "needs_background": "light"
     },
     "output_type": "display_data"
    }
   ],
   "source": [
    "%matplotlib inline\n",
    "df[\"FECHA_SINTOMAS\"].value_counts().plot()"
   ]
  },
  {
   "cell_type": "code",
   "execution_count": 24,
   "metadata": {},
   "outputs": [
    {
     "data": {
      "text/plain": [
       "(6507, 34)"
      ]
     },
     "execution_count": 24,
     "metadata": {},
     "output_type": "execute_result"
    }
   ],
   "source": [
    "df[df[\"FECHA_INGRESO\"] == df[\"FECHA_SINTOMAS\"]].shape"
   ]
  },
  {
   "cell_type": "markdown",
   "metadata": {},
   "source": [
    "Hay ... casos que fueron ingresados a la unidad correspondiente el mismo día que presentaron los síntomas"
   ]
  }
 ],
 "metadata": {
  "kernelspec": {
   "display_name": "Python 3",
   "language": "python",
   "name": "python3"
  },
  "language_info": {
   "codemirror_mode": {
    "name": "ipython",
    "version": 3
   },
   "file_extension": ".py",
   "mimetype": "text/x-python",
   "name": "python",
   "nbconvert_exporter": "python",
   "pygments_lexer": "ipython3",
   "version": "3.6.7"
  }
 },
 "nbformat": 4,
 "nbformat_minor": 2
}
